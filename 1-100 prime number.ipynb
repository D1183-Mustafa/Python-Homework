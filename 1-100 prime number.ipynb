{
 "cells": [
  {
   "cell_type": "markdown",
   "id": "f2659ec3",
   "metadata": {},
   "source": [
    "Task : Print the prime numbers which are between 1 to entered limit number (n).\n",
    "\n",
    "You can use a nested for loop.\n",
    "Collect all these numbers into a list\n",
    "The desired output for n=100 :\n",
    "\n",
    "[2, 3, 5, 7, 11, 13, 17, 19, 23, 29, 31, 37, 41, 43, 47, 53, 59,\n",
    "61, 67, 71, 73, 79, 83, 89, 97]"
   ]
  },
  {
   "cell_type": "code",
   "execution_count": 14,
   "id": "eeb4211d",
   "metadata": {},
   "outputs": [
    {
     "name": "stdout",
     "output_type": "stream",
     "text": [
      "lütfen sayı giriniz : 100\n",
      "[2, 3, 5, 7, 11, 13, 17, 19, 23, 29, 31, 37, 41, 43, 47, 53, 59, 61, 67, 71, 73, 79, 83, 89, 97]\n"
     ]
    }
   ],
   "source": [
    "n = int(input(\"lütfen sayı giriniz : \"))\n",
    "lst = []\n",
    "for i in range(2, n+1):\n",
    "    sayac = 0\n",
    "    for j in range(2,i):\n",
    "        if i % j == 0:\n",
    "            sayac += 1\n",
    "    if sayac == 0:\n",
    "        lst.append(i)\n",
    "\n",
    "            \n",
    "\n",
    "print(lst)\n",
    "            "
   ]
  },
  {
   "cell_type": "code",
   "execution_count": 16,
   "id": "54cba5e2",
   "metadata": {},
   "outputs": [
    {
     "name": "stdout",
     "output_type": "stream",
     "text": [
      "[2, 3, 5, 7, 11, 13, 17, 19, 23, 29, 31, 37, 41, 43, 47, 53, 59, 61, 67, 71, 73, 79, 83, 89, 97]\n"
     ]
    }
   ],
   "source": [
    "def asal_list(n):\n",
    "    lst = []\n",
    "    for i in range(2,n+1):\n",
    "        sayac = 0\n",
    "        for j in range(2,i):\n",
    "            if i % j == 0:\n",
    "                sayac += 1\n",
    "        if sayac == 0:\n",
    "            lst.append(i)\n",
    "    return lst\n",
    "\n",
    "print(asal_list(100))"
   ]
  },
  {
   "cell_type": "code",
   "execution_count": null,
   "id": "87f28374",
   "metadata": {},
   "outputs": [],
   "source": []
  }
 ],
 "metadata": {
  "kernelspec": {
   "display_name": "Python 3",
   "language": "python",
   "name": "python3"
  },
  "language_info": {
   "codemirror_mode": {
    "name": "ipython",
    "version": 3
   },
   "file_extension": ".py",
   "mimetype": "text/x-python",
   "name": "python",
   "nbconvert_exporter": "python",
   "pygments_lexer": "ipython3",
   "version": "3.8.8"
  }
 },
 "nbformat": 4,
 "nbformat_minor": 5
}
